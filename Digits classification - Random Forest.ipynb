{
 "cells": [
  {
   "cell_type": "code",
   "execution_count": null,
   "id": "d5eab875",
   "metadata": {},
   "outputs": [],
   "source": [
    "import pandas as pd\n",
    "from sklearn.datasets import load_digits\n",
    "import matplotlib.pyplot as plt\n",
    "import seaborn as sn\n",
    "from sklearn.model_selection import train_test_split\n",
    "from sklearn.ensemble import RandomForestClassifier\n",
    "from sklearn.metrics import classification_report, confusion_matrix\n",
    "%matplotlib inline"
   ]
  },
  {
   "cell_type": "code",
   "execution_count": null,
   "id": "c1bfa447",
   "metadata": {},
   "outputs": [],
   "source": [
    "digits = load_digits(as_frame=True) # digits is Dictionary-like object , If as_frame=True, 'data'&'target' will be a pandas DataFrame."
   ]
  },
  {
   "cell_type": "markdown",
   "id": "d1013d94",
   "metadata": {},
   "source": [
    "https://scikit-learn.org/stable/modules/generated/sklearn.datasets.load_digits.html#sklearn.datasets.load_digits\n",
    "Load and return the digits dataset (classification).\n",
    "\n",
    "Each datapoint is a 8x8 image of a digit.\n",
    "\n",
    "Classes: 10\n",
    "\n",
    "Samples per class: ~180\n",
    "\n",
    "Samples total: 1797\n",
    "\n",
    "Dimensionality: 64\n",
    "\n",
    "Features: integers 0-16"
   ]
  },
  {
   "cell_type": "code",
   "execution_count": null,
   "id": "b7c12d8d",
   "metadata": {},
   "outputs": [],
   "source": [
    "digits"
   ]
  },
  {
   "cell_type": "code",
   "execution_count": null,
   "id": "0605583f",
   "metadata": {},
   "outputs": [],
   "source": [
    "dir (digits) # dir: returns all properties and methods of the specified object without values"
   ]
  },
  {
   "cell_type": "code",
   "execution_count": null,
   "id": "b2b372d3",
   "metadata": {},
   "outputs": [],
   "source": [
    "digits.DESCR # access as attribute"
   ]
  },
  {
   "cell_type": "code",
   "execution_count": null,
   "id": "c8bbe40b",
   "metadata": {},
   "outputs": [],
   "source": [
    "digits['DESCR'] # or access as key"
   ]
  },
  {
   "cell_type": "code",
   "execution_count": null,
   "id": "3b143a62",
   "metadata": {},
   "outputs": [],
   "source": [
    "digits.images.shape"
   ]
  },
  {
   "cell_type": "code",
   "execution_count": null,
   "id": "dee12c17",
   "metadata": {},
   "outputs": [],
   "source": [
    "plt.gray()\n",
    "for i in range(4):\n",
    "    plt.matshow(digits.images[i])"
   ]
  },
  {
   "cell_type": "code",
   "execution_count": null,
   "id": "ed5b02f6",
   "metadata": {},
   "outputs": [],
   "source": [
    "df = digits.data"
   ]
  },
  {
   "cell_type": "code",
   "execution_count": null,
   "id": "898971ff",
   "metadata": {},
   "outputs": [],
   "source": [
    "df"
   ]
  },
  {
   "cell_type": "code",
   "execution_count": null,
   "id": "c9e36d8c",
   "metadata": {},
   "outputs": [],
   "source": [
    "digits.target"
   ]
  },
  {
   "cell_type": "code",
   "execution_count": null,
   "id": "edee4c9e",
   "metadata": {},
   "outputs": [],
   "source": [
    "X_train, X_test, y_train, y_test = train_test_split(df, digits.target, test_size=0.2,  random_state=42 )"
   ]
  },
  {
   "cell_type": "code",
   "execution_count": null,
   "id": "344f5ed9",
   "metadata": {},
   "outputs": [],
   "source": [
    "X_train"
   ]
  },
  {
   "cell_type": "code",
   "execution_count": null,
   "id": "1bf7c59b",
   "metadata": {},
   "outputs": [],
   "source": [
    "model = RandomForestClassifier()\n",
    "model.fit(X_train,y_train)"
   ]
  },
  {
   "cell_type": "code",
   "execution_count": null,
   "id": "e3fb16bd",
   "metadata": {},
   "outputs": [],
   "source": [
    "model.score(X_test,y_test)"
   ]
  },
  {
   "cell_type": "code",
   "execution_count": null,
   "id": "7fbc7c20",
   "metadata": {},
   "outputs": [],
   "source": [
    "y_predict = model.predict(X_test)"
   ]
  },
  {
   "cell_type": "code",
   "execution_count": null,
   "id": "937a5b8a",
   "metadata": {},
   "outputs": [],
   "source": [
    "cm = confusion_matrix(y_test, y_predict)"
   ]
  },
  {
   "cell_type": "code",
   "execution_count": null,
   "id": "18996f94",
   "metadata": {},
   "outputs": [],
   "source": [
    "plt.figure(figsize=(10,7))\n",
    "sn.heatmap(cm, annot=True)\n",
    "plt.xlabel('Predicted')\n",
    "plt.ylabel('Truth')"
   ]
  },
  {
   "cell_type": "code",
   "execution_count": null,
   "id": "25c915bb",
   "metadata": {},
   "outputs": [],
   "source": [
    "classification_report(y_test, y_predict,output_dict=True)"
   ]
  }
 ],
 "metadata": {
  "kernelspec": {
   "display_name": "Python 3 (ipykernel)",
   "language": "python",
   "name": "python3"
  },
  "language_info": {
   "codemirror_mode": {
    "name": "ipython",
    "version": 3
   },
   "file_extension": ".py",
   "mimetype": "text/x-python",
   "name": "python",
   "nbconvert_exporter": "python",
   "pygments_lexer": "ipython3",
   "version": "3.10.4"
  }
 },
 "nbformat": 4,
 "nbformat_minor": 5
}
